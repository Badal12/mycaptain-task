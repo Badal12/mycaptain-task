from sklearn.neighbors import KNeighborsClassifier
from sklearn.preprocessing import LabelEncoder
from sklearn.model_selection import train_test_split
from sklearn.metrics import classification_report
from imutils import paths
import os

import cv2

class ImgProcessor:
    def __init__(self, width, height, inter=cv2.INTER_AREA):
        self.width=width
        self.height=height
        self.inter=inter

    def process(self, img):
        #same image ratio for all images
        return cv2.resize(img, (self.width, self.height), interpolation=self.inter)
#nessary package
import numpy as np

class DataLoader:
    def __init__(self, prepros=None):
        self.prepros=prepros
        if self.prepros is None:
            self.prepros=[]

    def load(self, imgpaths, verbose=-1):
        #create two list for data and label
        data = []
        labels=[]
        #loop over the input image
        for(i, imgpath) in enumerate(imgpaths):
            img=cv2.imread(imgpath)
            label=imgpath.split(os.path.sep)[-2]

            if self.prepros is not None:
                for p in self.prepros:
                    img=p.process(img)

            data.append(img)
            labels.append(label)

            if verbose > 0 and i > 0 and (i + 1) % verbose == 0:
                print("[INFO] processed {}/{}".format(i + 1, len(imgpaths)))
        return (np.array(data), np.array(labels))

print("Loading Images:")
imgpaths=list(paths.list_images(dataset_path))
# 32*32 pixel image size processing
ip = ImgProcessor(32, 32)
dl = DataLoader(prepros=[ip])
(data, labels) = dl.load(imgpaths, verbose=500)
data = data.reshape((data.shape[0], 3072))
print("[INFO] features matrix: {:.1f}KB".format(data.nbytes / (1024)))
print(data[1].shape)
# encoding the labels for each animal
# convert these to interger like 0, 1, 2
# for cat class 0, dog class 1 and panda class 2

le = LabelEncoder()
labels = le.fit_transform(labels)

#75% training and 25% testing data
(Xtrain, Xtest, ytrain, ytest) = train_test_split(data, labels, test_size=0.25, random_state=40)

#evaluating with knn classifier
model = KNeighborsClassifier(n_neighbors=neighbors, n_jobs=jobs)

model.fit(Xtrain, ytrain)


print(classification_report(ytest, model.predict(Xtest), target_names=le.classes_))





